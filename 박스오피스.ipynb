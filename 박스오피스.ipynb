{
 "cells": [
  {
   "cell_type": "code",
   "execution_count": 53,
   "metadata": {
    "scrolled": false
   },
   "outputs": [
    {
     "name": "stdout",
     "output_type": "stream",
     "text": [
      "원하는 연도를 입력하세요2014\n",
      "1위 명량\n",
      "2위 국제시장\n",
      "3위 인터스텔라\n",
      "4위 겨울왕국\n",
      "5위 해적: 바다로 간 산적\n",
      "6위 수상한 그녀\n",
      "7위 트랜스포머: 사라진 시대\n",
      "8위 님아, 그 강을 건너지 마오\n",
      "9위 군도: 민란의 시대\n",
      "10위 엣지 오브 투모로우\n",
      "11위 엑스맨: 데이즈 오브 퓨처 패스트\n",
      "12위 어메이징 스파이더맨 2\n",
      "13위 타짜-신의 손\n",
      "14위 혹성탈출: 반격의 서막\n",
      "15위 캡틴 아메리카: 윈터 솔져\n",
      "16위 역린\n",
      "17위 신의 한 수\n",
      "18위 끝까지 간다\n",
      "19위 비긴 어게인\n",
      "20위 드래곤 길들이기 2\n"
     ]
    }
   ],
   "source": [
    "import csv\n",
    "f=open('역대_박스오피스_내역.csv',encoding='utf8')\n",
    "data=csv.reader(f)\n",
    "next(data)\n",
    "next(data)\n",
    "next(data)\n",
    "input_year=input('원하는 연도를 입력하세요:')\n",
    "number=0\n",
    "for row in data:\n",
    "    a=row[2]\n",
    "    year=(a.split('-')[0])\n",
    "    if input_year == year :\n",
    "        number+=1\n",
    "        print('%s위' %number, row[1])\n",
    "        \n",
    "if number == 0 :\n",
    "    print('%s년에는 유명한 영화가 없습니다'%input_year)"
   ]
  },
  {
   "cell_type": "code",
   "execution_count": null,
   "metadata": {},
   "outputs": [],
   "source": []
  },
  {
   "cell_type": "code",
   "execution_count": 22,
   "metadata": {},
   "outputs": [
    {
     "data": {
      "image/png": "[encoded data removed]",
      "text/plain": [
       "<matplotlib.figure.Figure at 0x14571f0>"
      ]
     },
     "metadata": {},
     "output_type": "display_data"
    }
   ],
   "source": [
    "import csv\n",
    "f=open('역대_박스오피스_내역.csv',encoding='utf8')\n",
    "data=csv.reader(f)\n",
    "next(data)\n",
    "next(data)\n",
    "next(data)\n",
    "result = {}\n",
    "for row in data:\n",
    "    a=row[2]\n",
    "    year=(a.split('-')[0])\n",
    "    if year in result:\n",
    "        result[year]+=1\n",
    "    else:\n",
    "        result[year]=1\n",
    "\n",
    "sortedArr=dict(sorted(result.items()))\n",
    "listsort=list(sortedArr)\n",
    "\n",
    "years=sortedArr.keys()\n",
    "listyears=list(years)\n",
    "del listyears[0]\n",
    "\n",
    "gaesoo=sortedArr.values()\n",
    "listgaesoo=list(gaesoo)\n",
    "del listgaesoo[0]\n",
    "\n",
    "length2=len(listgaesoo)\n",
    "\n",
    "import matplotlib.pyplot as plt\n",
    "plt.bar(range(length2), listgaesoo, width = 0.7)\n",
    "plt.xticks(range(length2), listyears, rotation = 90)\n",
    "plt.show()"
   ]
  },
  {
   "cell_type": "code",
   "execution_count": 55,
   "metadata": {},
   "outputs": [
    {
     "ename": "SyntaxError",
     "evalue": "invalid syntax (<ipython-input-55-eb33de90a279>, line 1)",
     "output_type": "error",
     "traceback": [
      "\u001b[1;36m  File \u001b[1;32m\"<ipython-input-55-eb33de90a279>\"\u001b[1;36m, line \u001b[1;32m1\u001b[0m\n\u001b[1;33m    for item in result2\u001b[0m\n\u001b[1;37m                       ^\u001b[0m\n\u001b[1;31mSyntaxError\u001b[0m\u001b[1;31m:\u001b[0m invalid syntax\n"
     ]
    }
   ],
   "source": []
  },
  {
   "cell_type": "code",
   "execution_count": null,
   "metadata": {},
   "outputs": [],
   "source": []
  },
  {
   "cell_type": "code",
   "execution_count": null,
   "metadata": {},
   "outputs": [],
   "source": []
  }
 ],
 "metadata": {
  "kernelspec": {
   "display_name": "Python 3",
   "language": "python",
   "name": "python3"
  },
  "language_info": {
   "codemirror_mode": {
    "name": "ipython",
    "version": 3
   },
   "file_extension": ".py",
   "mimetype": "text/x-python",
   "name": "python",
   "nbconvert_exporter": "python",
   "pygments_lexer": "ipython3",
   "version": "3.6.4"
  }
 },
 "nbformat": 4,
 "nbformat_minor": 2
}
